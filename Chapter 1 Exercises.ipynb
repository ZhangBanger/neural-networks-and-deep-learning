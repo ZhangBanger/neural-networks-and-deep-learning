{
 "cells": [
  {
   "cell_type": "markdown",
   "metadata": {},
   "source": [
    "### Sigmoid neurons simulating perceptrons, part I\n",
    "\n",
    "Suppose we take all the weights and biases in a network of perceptrons, and multiply them by a positive constant, c>0. Show that the behaviour of the network doesn't change."
   ]
  },
  {
   "cell_type": "markdown",
   "metadata": {},
   "source": [
    "$$\n",
    "\\begin{equation}\n",
    "    Perceptron(x; w) =\n",
    "    \\begin{cases}\n",
    "    0 &\\text{if } {\\sum_j w_j x_j \\le threshold}\n",
    "    \\\\1 &\\text{if } \\sum_j w_j x_j > threshold\n",
    "    \\end{cases}\n",
    "\\end{equation}\n",
    "$$"
   ]
  },
  {
   "cell_type": "markdown",
   "metadata": {},
   "source": [
    "$$\n",
    "\\begin{equation}\n",
    "    Perceptron(x; w) =\n",
    "    \\begin{cases}\n",
    "    0 &\\text{if } \\sum_j w_j x_j \\le -b\n",
    "    \\\\1 &\\text{if } \\sum_j w_j x_j > -b\n",
    "    \\end{cases}\n",
    "\\end{equation}\n",
    "$$"
   ]
  },
  {
   "cell_type": "markdown",
   "metadata": {},
   "source": [
    "$$\n",
    "\\begin{equation}\n",
    "    Perceptron(x; w) =\n",
    "    \\begin{cases}\n",
    "    0 &\\text{if } \\sum_j c * w_j x_j \\le c * -b\n",
    "    \\\\1 &\\text{if } \\sum_j c * w_j x_j > c * -b\n",
    "    \\end{cases}\n",
    "\\end{equation}\n",
    "$$"
   ]
  },
  {
   "cell_type": "markdown",
   "metadata": {},
   "source": [
    "$$\n",
    "\\begin{equation}\n",
    "    Perceptron(x; w) =\n",
    "    \\begin{cases}\n",
    "    0 &\\text{if } c * \\sum_j w_j x_j \\le c * -b\n",
    "    \\\\1 &\\text{if } c * \\sum_j w_j x_j > c * -b\n",
    "    \\end{cases}\n",
    "\\end{equation}\n",
    "$$"
   ]
  },
  {
   "cell_type": "markdown",
   "metadata": {},
   "source": [
    "Take the $c$ out of the sum above and divide both sides by c"
   ]
  },
  {
   "cell_type": "markdown",
   "metadata": {},
   "source": [
    "$$\n",
    "\\begin{equation}\n",
    "    Perception(x; w) =\n",
    "    \\begin{cases}\n",
    "    0 &\\text{if } \\sum_j w_j x_j \\le -b\n",
    "    \\\\1 &\\text{if } \\sum_j w_j x_j > -b\n",
    "    \\end{cases}\n",
    "\\end{equation}\n",
    "$$"
   ]
  },
  {
   "cell_type": "markdown",
   "metadata": {},
   "source": [
    "Every perceptron outputs the same value as before because multiplying by a constant $c$ is equivalent to the original perceptron. The network therefore behaves the same way."
   ]
  },
  {
   "cell_type": "markdown",
   "metadata": {},
   "source": [
    "### Sigmoid neurons simulating perceptrons, part II  \n",
    "\n",
    "Suppose we have the same setup as the last problem - a network of perceptrons. Suppose also that the overall input to the network of perceptrons has been chosen. We won't need the actual input value, we just need the input to have been fixed. Suppose the weights and biases are such that w⋅x+b≠0 for the input x to any particular perceptron in the network. Now replace all the perceptrons in the network by sigmoid neurons, and multiply the weights and biases by a positive constant c>0. Show that in the limit as c→∞ the behaviour of this network of sigmoid neurons is exactly the same as the network of perceptrons. How can this fail when w⋅x+b=0 for one of the perceptrons?"
   ]
  },
  {
   "cell_type": "markdown",
   "metadata": {},
   "source": []
  }
 ],
 "metadata": {
  "kernelspec": {
   "display_name": "Python [Root]",
   "language": "python",
   "name": "Python [Root]"
  },
  "language_info": {
   "codemirror_mode": {
    "name": "ipython",
    "version": 3
   },
   "file_extension": ".py",
   "mimetype": "text/x-python",
   "name": "python",
   "nbconvert_exporter": "python",
   "pygments_lexer": "ipython3",
   "version": "3.5.1"
  }
 },
 "nbformat": 4,
 "nbformat_minor": 0
}
