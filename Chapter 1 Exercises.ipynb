{
 "cells": [
  {
   "cell_type": "markdown",
   "metadata": {},
   "source": [
    "### Sigmoid neurons simulating perceptrons, part I\n",
    "\n",
    "Suppose we take all the weights and biases in a network of perceptrons, and multiply them by a positive constant, c>0. Show that the behaviour of the network doesn't change."
   ]
  },
  {
   "cell_type": "markdown",
   "metadata": {},
   "source": [
    "$$\n",
    "\\begin{equation}\n",
    "    Perceptron(x; w) =\n",
    "    \\begin{cases}\n",
    "    0 &\\text{if } {\\sum_j w_j x_j \\le threshold}\n",
    "    \\\\1 &\\text{if } \\sum_j w_j x_j > threshold\n",
    "    \\end{cases}\n",
    "\\end{equation}\n",
    "$$"
   ]
  },
  {
   "cell_type": "markdown",
   "metadata": {},
   "source": [
    "$$\n",
    "\\begin{equation}\n",
    "    Perception(x; w) =\n",
    "    \\begin{cases}\n",
    "    0 &\\text{if } \\sum_j w_j x_j \\le -b\n",
    "    \\\\1 &\\text{if } \\sum_j w_j x_j > -b\n",
    "    \\end{cases}\n",
    "\\end{equation}\n",
    "$$"
   ]
  },
  {
   "cell_type": "markdown",
   "metadata": {},
   "source": [
    "$$\n",
    "\\begin{equation}\n",
    "    Perceptron(x; w) =\n",
    "    \\begin{cases}\n",
    "    0 &\\text{if } \\sum_j c * w_j x_j \\le c * -b\n",
    "    \\\\1 &\\text{if } \\sum_j c * w_j x_j > c * -b\n",
    "    \\end{cases}\n",
    "\\end{equation}\n",
    "$$"
   ]
  },
  {
   "cell_type": "markdown",
   "metadata": {},
   "source": [
    "$$\n",
    "\\begin{equation}\n",
    "    Perceptron(x; w) =\n",
    "    \\begin{cases}\n",
    "    0 &\\text{if } c * \\sum_j w_j x_j \\le c * -b\n",
    "    \\\\1 &\\text{if } c * \\sum_j w_j x_j > c * -b\n",
    "    \\end{cases}\n",
    "\\end{equation}\n",
    "$$"
   ]
  },
  {
   "cell_type": "markdown",
   "metadata": {},
   "source": [
    "Take the $c$ out of the sum above and divide both sides by c"
   ]
  },
  {
   "cell_type": "markdown",
   "metadata": {},
   "source": [
    "$$\n",
    "\\begin{equation}\n",
    "    Perception(x; w) =\n",
    "    \\begin{cases}\n",
    "    0 &\\text{if } \\sum_j w_j x_j \\le -b\n",
    "    \\\\1 &\\text{if } \\sum_j w_j x_j > -b\n",
    "    \\end{cases}\n",
    "\\end{equation}\n",
    "$$"
   ]
  },
  {
   "cell_type": "markdown",
   "metadata": {},
   "source": [
    "Every perceptron outputs the same value as before because multiplying by a constant $c$ is equivalent to the original perceptron. The network therefore behaves the same way.\n",
    "\n",
    "A simpler way would have been to show that the response is invariant to scaling since the $c$ can be applied outside of the sum."
   ]
  },
  {
   "cell_type": "markdown",
   "metadata": {},
   "source": [
    "### Sigmoid neurons simulating perceptrons, part II  \n",
    "\n",
    "Suppose we have the same setup as the last problem - a network of perceptrons. Suppose also that the overall input to the network of perceptrons has been chosen. We won't need the actual input value, we just need the input to have been fixed. Suppose the weights and biases are such that w⋅x+b≠0 for the input x to any particular perceptron in the network. Now replace all the perceptrons in the network by sigmoid neurons, and multiply the weights and biases by a positive constant c>0. Show that in the limit as c→∞ the behaviour of this network of sigmoid neurons is exactly the same as the network of perceptrons. How can this fail when w⋅x+b=0 for one of the perceptrons?"
   ]
  },
  {
   "cell_type": "markdown",
   "metadata": {},
   "source": [
    "$\\sigma(x; w,b) = \\frac{1}{1 + exp(- \\sum_j {w_j x_j} + b)}$\n",
    "\n",
    "For $c$ > 0 :\n",
    "\n",
    "$\\sigma(x; c \\cdot w, b \\cdot w) = \\frac{1}{1 + exp(- \\sum_j {c * w_j x_j} + c * b)}$\n",
    "\n",
    "$= \\frac{1}{1 + exp(- c (\\sum_j {w_j x_j} + b))}$\n",
    "\n",
    "As $c \\to \\infty$:\n",
    "\n",
    "$= \\frac{1}{1 + exp(- \\infty \\cdot \\sum_j {w_j x_j + b})}$\n",
    "\n",
    "For $w \\cdot x + b > 0$:\n",
    "\n",
    "$\\sigma(x) \\to \\frac{1}{1 + exp(-\\infty)} = 1$\n",
    "\n",
    "for $w \\cdot x + b < 0$:\n",
    "\n",
    "$\\sigma(x) \\to \\frac{1}{1 + exp(\\infty)} = 0$\n",
    "\n",
    "for $w \\cdot x + b = 0$:\n",
    "\n",
    "$\\sigma(x) \\to \\frac{1}{1 + exp(- \\infty * 0)} = ??$ "
   ]
  },
  {
   "cell_type": "markdown",
   "metadata": {},
   "source": [
    "### Bitwise representation of digit classifier\n",
    "\n",
    "There is a way of determining the bitwise representation of a digit by adding an extra layer to the three-layer network above. The extra layer converts the output from the previous layer into a binary representation, as illustrated in the figure below. Find a set of weights and biases for the new output layer. Assume that the first 3 layers of neurons are such that the correct output in the third layer (i.e., the old output layer) has activation at least 0.99, and incorrect outputs have activation less than 0.01"
   ]
  },
  {
   "cell_type": "markdown",
   "metadata": {},
   "source": [
    "Connectivity from 3rd layer to extra output layer is parameterized by $W^{4x10}$ and $b^{4 x 1}$\n",
    "\n",
    "$W_{i,j}$ represents the weight between the $i$th layer of the 3rd layer and the $j$th output neuron.\n",
    "\n",
    "$b_k$ represents the bias for the $k$th output neuron.\n",
    "\n",
    "$b$ should be just the $0$ vector since we already have a one-hot encoding and can easily map weights to the corresponding binary output.\n",
    "\n",
    "Output for 1: $W_{1,:} = [\\text{1 0 0 0}]^T$\n",
    "\n",
    "Output for 2: $W_{2,:} = [\\text{0 1 0 0}]^T$\n",
    "\n",
    "And so on...the weights correspond to the bitwise representation themselves."
   ]
  },
  {
   "cell_type": "markdown",
   "metadata": {},
   "source": []
  }
 ],
 "metadata": {
  "kernelspec": {
   "display_name": "Python [Root]",
   "language": "python",
   "name": "Python [Root]"
  },
  "language_info": {
   "codemirror_mode": {
    "name": "ipython",
    "version": 3
   },
   "file_extension": ".py",
   "mimetype": "text/x-python",
   "name": "python",
   "nbconvert_exporter": "python",
   "pygments_lexer": "ipython3",
   "version": "3.5.1"
  }
 },
 "nbformat": 4,
 "nbformat_minor": 0
}
